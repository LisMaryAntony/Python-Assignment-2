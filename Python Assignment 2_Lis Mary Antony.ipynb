{
 "cells": [
  {
   "cell_type": "markdown",
   "id": "817e9c8c-f976-4285-b673-25d2f1902fd1",
   "metadata": {},
   "source": [
    "# Topic List"
   ]
  },
  {
   "cell_type": "markdown",
   "id": "4f2899fc-3dc9-457d-980d-e6c5143447d0",
   "metadata": {},
   "source": [
    "# Q1"
   ]
  },
  {
   "cell_type": "code",
   "execution_count": 2,
   "id": "e8aa97c6-148f-43e1-bbc5-07d5c8a9e60f",
   "metadata": {},
   "outputs": [
    {
     "name": "stdout",
     "output_type": "stream",
     "text": [
      "[0, 1, 3, 6, 7]\n"
     ]
    }
   ],
   "source": [
    "L1=[0,1,3,6,7]\n",
    "print(L1)"
   ]
  },
  {
   "cell_type": "markdown",
   "id": "c7223d8f-c4ba-4cc9-81ad-cebc2a020d66",
   "metadata": {},
   "source": [
    "# Q2"
   ]
  },
  {
   "cell_type": "code",
   "execution_count": 4,
   "id": "5b7c7a57-d1ab-4992-b289-553f11681b1b",
   "metadata": {},
   "outputs": [
    {
     "name": "stdout",
     "output_type": "stream",
     "text": [
      "[0, 1, 3, 6, 7, 5, 9, 19]\n"
     ]
    }
   ],
   "source": [
    "L1.extend([5,9,19])\n",
    "print(L1)"
   ]
  },
  {
   "cell_type": "markdown",
   "id": "be88f3da-bb91-4d10-8ff0-fdcc86220f18",
   "metadata": {},
   "source": [
    "# Q3"
   ]
  },
  {
   "cell_type": "code",
   "execution_count": 8,
   "id": "612cf1f4-f083-4b16-ae28-219f87e0cfda",
   "metadata": {},
   "outputs": [
    {
     "name": "stdout",
     "output_type": "stream",
     "text": [
      "3\n"
     ]
    }
   ],
   "source": [
    "third_element=L1[2]\n",
    "print(third_element)"
   ]
  },
  {
   "cell_type": "markdown",
   "id": "57e383d7-d5e2-4653-9b67-3eeb4b0d59ee",
   "metadata": {},
   "source": [
    "# Q4"
   ]
  },
  {
   "cell_type": "code",
   "execution_count": 12,
   "id": "dcee333a-99d9-4ef7-89d7-3fa0e526dfa6",
   "metadata": {},
   "outputs": [
    {
     "name": "stdout",
     "output_type": "stream",
     "text": [
      "[0, 1, 3, 6, 7, 5, 9, 19, 'Lis', 'Mary', 'Shony']\n"
     ]
    }
   ],
   "source": [
    "L2=['Lis','Mary','Shony']\n",
    "L3=L1+L2\n",
    "print(L3)"
   ]
  },
  {
   "cell_type": "markdown",
   "id": "e59a5546-e5a6-4edd-a8e7-ce3376bf882d",
   "metadata": {},
   "source": [
    "# Q5"
   ]
  },
  {
   "cell_type": "code",
   "execution_count": 14,
   "id": "8f757ecf-6484-4ba0-8360-772513d72170",
   "metadata": {},
   "outputs": [
    {
     "name": "stdout",
     "output_type": "stream",
     "text": [
      "0\n",
      "1\n",
      "3\n",
      "6\n",
      "7\n",
      "5\n",
      "9\n",
      "19\n",
      "Lis\n",
      "Mary\n",
      "Shony\n"
     ]
    }
   ],
   "source": [
    "for i in L3:\n",
    "    print(i)"
   ]
  },
  {
   "cell_type": "markdown",
   "id": "1f16fdfc-7a8b-4b4d-a07e-5801670070e9",
   "metadata": {},
   "source": [
    "# Topic Dictionary"
   ]
  },
  {
   "cell_type": "markdown",
   "id": "0bcbf0eb-7bf2-402b-ab31-4ba045f1f78a",
   "metadata": {},
   "source": [
    "# Q1"
   ]
  },
  {
   "cell_type": "code",
   "execution_count": 17,
   "id": "e23f7e1f-bdbc-4b39-8e7a-92531551f40f",
   "metadata": {},
   "outputs": [
    {
     "name": "stdout",
     "output_type": "stream",
     "text": [
      "{'Name': 'John', 'Age': 25, 'Address': 'New York'}\n"
     ]
    }
   ],
   "source": [
    "D1={'Name':'John','Age':25,'Address':'New York'}\n",
    "print(D1)"
   ]
  },
  {
   "cell_type": "markdown",
   "id": "79fdba0a-0c70-44f2-8690-5ab24ae44e32",
   "metadata": {},
   "source": [
    "# Q2"
   ]
  },
  {
   "cell_type": "code",
   "execution_count": 21,
   "id": "9997a19c-a287-43a7-bb99-541da3b6ffca",
   "metadata": {},
   "outputs": [
    {
     "name": "stdout",
     "output_type": "stream",
     "text": [
      "{'Name': 'John', 'Age': 25, 'Address': 'New York', 'Phone': '1234567890'}\n"
     ]
    }
   ],
   "source": [
    "D1['Phone']='1234567890'\n",
    "print(D1)"
   ]
  },
  {
   "cell_type": "markdown",
   "id": "7d5202b8-a440-4853-975f-da1031f8af18",
   "metadata": {},
   "source": [
    "# Q3"
   ]
  },
  {
   "cell_type": "code",
   "execution_count": 23,
   "id": "d7aa54ff-084a-4de1-80e8-755f6f3394fa",
   "metadata": {},
   "outputs": [
    {
     "name": "stdout",
     "output_type": "stream",
     "text": [
      "{'Name': 'John', 'Age': 25, 'Phone': '1234567890'}\n"
     ]
    }
   ],
   "source": [
    "D1.pop('Address')\n",
    "print(D1)"
   ]
  },
  {
   "cell_type": "markdown",
   "id": "1900df96-8617-4a97-8be2-4dfb5c076adf",
   "metadata": {},
   "source": [
    "# Q4"
   ]
  },
  {
   "cell_type": "code",
   "execution_count": 25,
   "id": "647b3c55-dab5-4e6c-918a-81f30dc87a13",
   "metadata": {},
   "outputs": [
    {
     "name": "stdout",
     "output_type": "stream",
     "text": [
      "25\n"
     ]
    }
   ],
   "source": [
    "print(D1['Age'])"
   ]
  },
  {
   "cell_type": "markdown",
   "id": "f1f0d191-7aa2-45fe-88ce-ed07eba9619f",
   "metadata": {},
   "source": [
    "# Q5"
   ]
  },
  {
   "cell_type": "code",
   "execution_count": 27,
   "id": "586ed961-2207-455a-9180-7907ff24c805",
   "metadata": {},
   "outputs": [
    {
     "name": "stdout",
     "output_type": "stream",
     "text": [
      "True\n"
     ]
    }
   ],
   "source": [
    "print('Phone' in D1)"
   ]
  },
  {
   "cell_type": "markdown",
   "id": "8c1b7f44-b3ac-431c-a567-39945e6f29d2",
   "metadata": {},
   "source": [
    "# Topic Set"
   ]
  },
  {
   "cell_type": "markdown",
   "id": "96439b54-215e-4988-a46a-c17574d5e545",
   "metadata": {},
   "source": [
    "# Q1"
   ]
  },
  {
   "cell_type": "code",
   "execution_count": 30,
   "id": "5db0dc67-cb5d-44c1-ba34-8961ecf49ef3",
   "metadata": {},
   "outputs": [
    {
     "name": "stdout",
     "output_type": "stream",
     "text": [
      "{1, 2, 3, 4, 5}\n"
     ]
    }
   ],
   "source": [
    "S1={1,2,3,4,5}\n",
    "print(S1)"
   ]
  },
  {
   "cell_type": "markdown",
   "id": "a4c19cfb-0b9c-4cbd-b8eb-be697cd1351b",
   "metadata": {},
   "source": [
    "# Q2"
   ]
  },
  {
   "cell_type": "code",
   "execution_count": 32,
   "id": "7dd2c90e-806d-4018-87e7-53295deffc7c",
   "metadata": {},
   "outputs": [
    {
     "name": "stdout",
     "output_type": "stream",
     "text": [
      "{1, 2, 3, 4, 5, 6}\n"
     ]
    }
   ],
   "source": [
    "S1.add(6)\n",
    "print(S1)"
   ]
  },
  {
   "cell_type": "markdown",
   "id": "6521521f-3433-427f-88f0-c7da972de472",
   "metadata": {},
   "source": [
    "# Q3"
   ]
  },
  {
   "cell_type": "code",
   "execution_count": 34,
   "id": "c8105eff-3366-424f-8bb1-c83b892658ad",
   "metadata": {},
   "outputs": [
    {
     "name": "stdout",
     "output_type": "stream",
     "text": [
      "{1, 2, 4, 5, 6}\n"
     ]
    }
   ],
   "source": [
    "S1.remove(3)\n",
    "print(S1)"
   ]
  },
  {
   "cell_type": "markdown",
   "id": "c7e2b2ee-1e1a-4179-b841-d277da046302",
   "metadata": {},
   "source": [
    "# Q4"
   ]
  },
  {
   "cell_type": "code",
   "execution_count": null,
   "id": "6163190a-9906-4348-8ae5-8c6c0f769c05",
   "metadata": {},
   "outputs": [],
   "source": [
    "print(len(S1))"
   ]
  },
  {
   "cell_type": "markdown",
   "id": "8323d1f6-309e-4080-aec8-b1d82e2b7709",
   "metadata": {},
   "source": [
    "# Q5"
   ]
  },
  {
   "cell_type": "code",
   "execution_count": 38,
   "id": "fbaad541-3e4c-4af3-8800-be600abf5308",
   "metadata": {},
   "outputs": [
    {
     "name": "stdout",
     "output_type": "stream",
     "text": [
      "{1, 2, 4, 5, 6, 7, 8}\n"
     ]
    }
   ],
   "source": [
    "S2={6,7,8}\n",
    "S3=S1.union(S2)\n",
    "print(S3)"
   ]
  },
  {
   "cell_type": "markdown",
   "id": "c9a0c65f-9540-4c42-b164-81618c9f389b",
   "metadata": {},
   "source": [
    "# Topic Tuple"
   ]
  },
  {
   "cell_type": "markdown",
   "id": "67df2d81-ce64-4f1b-8051-5be5b9c8b956",
   "metadata": {},
   "source": [
    "# Q1"
   ]
  },
  {
   "cell_type": "code",
   "execution_count": 41,
   "id": "62fabd7b-e48c-457f-acf3-14ec9bb2acd0",
   "metadata": {},
   "outputs": [
    {
     "name": "stdout",
     "output_type": "stream",
     "text": [
      "(1, 2, 3, 4)\n"
     ]
    }
   ],
   "source": [
    "T1=(1,2,3,4)\n",
    "print(T1)"
   ]
  },
  {
   "cell_type": "markdown",
   "id": "69a62446-dccd-4128-996e-87019493ac68",
   "metadata": {},
   "source": [
    "# Q2"
   ]
  },
  {
   "cell_type": "code",
   "execution_count": 43,
   "id": "1dc6f564-0383-43c2-a6c3-3326955f4cf2",
   "metadata": {},
   "outputs": [
    {
     "name": "stdout",
     "output_type": "stream",
     "text": [
      "4\n"
     ]
    }
   ],
   "source": [
    "print(len(T1))"
   ]
  },
  {
   "cell_type": "markdown",
   "id": "bc3b146d-3c46-4066-99f8-cff7bc1e8cef",
   "metadata": {},
   "source": [
    "# Q3"
   ]
  },
  {
   "cell_type": "code",
   "execution_count": 45,
   "id": "e75c53e9-7f8f-475f-ab8b-9fed1bdda5fb",
   "metadata": {},
   "outputs": [
    {
     "name": "stdout",
     "output_type": "stream",
     "text": [
      "(1, 2, 3, 4, 5, 6)\n"
     ]
    }
   ],
   "source": [
    "T2=(5,6)\n",
    "T3=T1+T2\n",
    "print(T3)"
   ]
  },
  {
   "cell_type": "markdown",
   "id": "21b61f5a-4bf3-443a-afdd-46870dd5f660",
   "metadata": {},
   "source": [
    "# Q4"
   ]
  },
  {
   "cell_type": "code",
   "execution_count": 47,
   "id": "c38a61d4-9d89-44d4-ab03-20b46ef93b9f",
   "metadata": {},
   "outputs": [
    {
     "name": "stdout",
     "output_type": "stream",
     "text": [
      "(1, 2)\n"
     ]
    }
   ],
   "source": [
    "print(T3[:2])"
   ]
  },
  {
   "cell_type": "markdown",
   "id": "56adb382-96d8-426b-8c0c-cdfa3e1adfb8",
   "metadata": {},
   "source": [
    "# Q5"
   ]
  },
  {
   "cell_type": "code",
   "execution_count": 49,
   "id": "9560005c-4aa2-432c-bbad-e7ae74941cf9",
   "metadata": {},
   "outputs": [
    {
     "name": "stdout",
     "output_type": "stream",
     "text": [
      "True\n"
     ]
    }
   ],
   "source": [
    "print(4 in T1)"
   ]
  },
  {
   "cell_type": "markdown",
   "id": "662f38ae-8fd8-4758-8177-b0668396242d",
   "metadata": {},
   "source": [
    "# Topic: String, List, Set, Dictionary Comprehension"
   ]
  },
  {
   "cell_type": "markdown",
   "id": "f15fdd05-692d-41c8-887a-1beb23b8536b",
   "metadata": {},
   "source": [
    "# Exercise 1"
   ]
  },
  {
   "cell_type": "code",
   "execution_count": 78,
   "id": "d8432aaf-6564-4645-95c1-e44a885cb487",
   "metadata": {},
   "outputs": [
    {
     "name": "stdin",
     "output_type": "stream",
     "text": [
      "Please enter your first name:  Lis Mary\n",
      "Please enter your last name:  Antony\n"
     ]
    },
    {
     "name": "stdout",
     "output_type": "stream",
     "text": [
      "Your full name is LIS MARY ANTONY\n",
      "Your initials are L A\n",
      "First name length is 8 letters\n",
      "Last name length is 6 letters\n",
      "Full name length is 15 letters\n",
      "First name starts with L\n",
      "First name ends with Y\n",
      "Last name starts with A\n",
      "Last name ends with Y\n",
      "First name indexes are 0- 7\n",
      "Last name indexes are 0- 5\n",
      "First name trims 1 Lis\n",
      "First name trims 2 is Mary\n",
      "Last name trims 1 Ant\n",
      "Last name trims 2 ntony\n"
     ]
    }
   ],
   "source": [
    "F_Name = input(\"Please enter your first name: \")\n",
    "L_Name = input(\"Please enter your last name: \")\n",
    "\n",
    "Full_Name = f\"{F_Name.upper()} {L_Name.upper()}\"\n",
    "print(f\"Your full name is {Full_Name}\")\n",
    "\n",
    "Initials = f\"{F_Name[0].upper()} {L_Name[0].upper()}\"\n",
    "print(f\"Your initials are {Initials}\")\n",
    "\n",
    "print(f\"First name length is {len(F_Name)} letters\")\n",
    "print(f\"Last name length is {len(L_Name)} letters\")\n",
    "print(f\"Full name length is {len(Full_Name)} letters\")\n",
    "\n",
    "print(f\"First name starts with {F_Name[0].upper()}\")\n",
    "print(f\"First name ends with {F_Name[-1].upper()}\")\n",
    "print(f\"Last name starts with {L_Name[0].upper()}\")\n",
    "print(f\"Last name ends with {L_Name[-1].upper()}\")\n",
    "\n",
    "print(f\"First name indexes are 0- {len(F_Name)-1}\")\n",
    "print(f\"Last name indexes are 0- {len(L_Name)-1}\")\n",
    "\n",
    "print(f\"First name trims 1 {F_Name[:3]}\")\n",
    "print(f\"First name trims 2 {F_Name[1:]}\")\n",
    "print(f\"Last name trims 1 {L_Name[:3]}\")\n",
    "print(f\"Last name trims 2 {L_Name[1:]}\")"
   ]
  },
  {
   "cell_type": "markdown",
   "id": "a5a22d58-e514-42cb-97fa-df55bff16468",
   "metadata": {},
   "source": [
    "# Exercise 2"
   ]
  },
  {
   "cell_type": "code",
   "execution_count": 80,
   "id": "d8893469-707e-403f-a6ff-9b165386001e",
   "metadata": {},
   "outputs": [
    {
     "name": "stdin",
     "output_type": "stream",
     "text": [
      "Please enter your name:  Lis Mary Antony\n"
     ]
    },
    {
     "name": "stdout",
     "output_type": "stream",
     "text": [
      "Encrypted Name: L**y\n"
     ]
    }
   ],
   "source": [
    "Name = input(\"Please enter your name: \")\n",
    "E_Name=f\"{Name[0]}**{Name[-1]}\"\n",
    "print(f\"Encrypted Name: {E_Name}\")"
   ]
  },
  {
   "cell_type": "markdown",
   "id": "5f743a52-af84-43b7-ae09-55ffc50203e1",
   "metadata": {},
   "source": [
    "# Exercise 3"
   ]
  },
  {
   "cell_type": "code",
   "execution_count": 88,
   "id": "1a57367b-0aef-4585-955d-23eb375ed842",
   "metadata": {},
   "outputs": [
    {
     "name": "stdout",
     "output_type": "stream",
     "text": [
      "2\n"
     ]
    }
   ],
   "source": [
    "Str=['amma','Lis','Shony','1307061']\n",
    "count=sum(1 for word in Str if \n",
    "                              len(word)>1 and word[0]==word[-1])\n",
    "print(count)"
   ]
  },
  {
   "cell_type": "markdown",
   "id": "e263142d-1835-4895-b9fa-798630f29628",
   "metadata": {},
   "source": [
    "# Exercise 4"
   ]
  },
  {
   "cell_type": "code",
   "execution_count": 92,
   "id": "c6eda320-cfd7-4f4f-990f-b96851d04d5d",
   "metadata": {},
   "outputs": [
    {
     "name": "stdout",
     "output_type": "stream",
     "text": [
      "[7, 14, 21, 28, 35, 42, 49, 56, 63, 70, 77, 84, 91, 98, 105, 112, 119, 126, 133, 140, 147, 154, 161, 168, 175, 182, 189, 196, 203, 210, 217, 224, 231, 238, 245, 252, 259, 266, 273, 280, 287, 294, 301, 308, 315, 322, 329, 336, 343, 350, 357, 364, 371, 378, 385, 392, 399, 406, 413, 420, 427, 434, 441, 448, 455, 462, 469, 476, 483, 490, 497, 504, 511, 518, 525, 532, 539, 546, 553, 560, 567, 574, 581, 588, 595, 602, 609, 616, 623, 630, 637, 644, 651, 658, 665, 672, 679, 686, 693, 700, 707, 714, 721, 728, 735, 742, 749, 756, 763, 770, 777, 784, 791, 798, 805, 812, 819, 826, 833, 840, 847, 854, 861, 868, 875, 882, 889, 896, 903, 910, 917, 924, 931, 938, 945, 952, 959, 966, 973, 980, 987, 994]\n"
     ]
    }
   ],
   "source": [
    "D7=[num for num in range(1,1001) if num % 7 ==0]\n",
    "print(D7)"
   ]
  },
  {
   "cell_type": "markdown",
   "id": "ad6c5ba5-3346-454a-a194-bf5868f23dba",
   "metadata": {},
   "source": [
    "# Exercise 5"
   ]
  },
  {
   "cell_type": "code",
   "execution_count": 96,
   "id": "c6f0d590-44bf-4161-9bab-19fb3c96aec8",
   "metadata": {},
   "outputs": [
    {
     "name": "stdout",
     "output_type": "stream",
     "text": [
      "{3: 1.0, 6: 2.0, 9: 3.0, 12: 4.0, 15: 5.0, 18: 6.0, 21: 7.0, 24: 8.0, 27: 9.0, 30: 10.0}\n"
     ]
    }
   ],
   "source": [
    "L4=[3,6,9,12,15,18,21,24,27,30]\n",
    "D2={num: num/3 for num in L4}\n",
    "print(D2)"
   ]
  },
  {
   "cell_type": "code",
   "execution_count": null,
   "id": "f0aeda63-ac47-4519-9899-ddb4929bdf2b",
   "metadata": {},
   "outputs": [],
   "source": []
  }
 ],
 "metadata": {
  "kernelspec": {
   "display_name": "Python 3 (ipykernel)",
   "language": "python",
   "name": "python3"
  },
  "language_info": {
   "codemirror_mode": {
    "name": "ipython",
    "version": 3
   },
   "file_extension": ".py",
   "mimetype": "text/x-python",
   "name": "python",
   "nbconvert_exporter": "python",
   "pygments_lexer": "ipython3",
   "version": "3.12.4"
  }
 },
 "nbformat": 4,
 "nbformat_minor": 5
}
